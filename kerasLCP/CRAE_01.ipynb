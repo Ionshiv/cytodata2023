{
 "cells": [
  {
   "cell_type": "code",
   "execution_count": 2,
   "metadata": {},
   "outputs": [],
   "source": [
    "import numpy as np\n",
    "import os as os\n",
    "from datetime import datetime\n",
    "from tensorflow.python.ops.control_flow_ops import case\n",
    "from lcpae import LcpAe\n",
    "from lcpgenerator import LcpGenerator\n",
    "import matplotlib.pyplot as plt\n",
    "from tensorflow import keras\n",
    "from keras import layers\n",
    "from keras.models import Model\n",
    "from keras.models import load_model\n",
    "import tensorflow as tf\n",
    "import glob as glob\n",
    "\n"
   ]
  },
  {
   "cell_type": "code",
   "execution_count": 11,
   "metadata": {},
   "outputs": [
    {
     "name": "stdout",
     "output_type": "stream",
     "text": [
      "WARNING:tensorflow:Layer gru_1 will not use cuDNN kernels since it doesn't meet the criteria. It will use a generic GPU kernel as fallback when running on GPU.\n",
      "WARNING:tensorflow:No training configuration found in save file, so the model was *not* compiled. Compile it manually.\n",
      "Model: \"model_2\"\n",
      "_________________________________________________________________\n",
      "Layer (type)                 Output Shape              Param #   \n",
      "=================================================================\n",
      "main_input (InputLayer)      [(None, 25, 1080, 1080, 6 0         \n",
      "_________________________________________________________________\n",
      "conv_timedist_layer (TimeDis (None, 25, 1050)          127506    \n",
      "_________________________________________________________________\n",
      "gru (GRU)                    (None, 25, 500)           2328000   \n",
      "_________________________________________________________________\n",
      "gru_1 (GRU)                  (None, 25, 250)           564000    \n",
      "_________________________________________________________________\n",
      "gru_2 (GRU)                  (None, 25, 100)           105600    \n",
      "=================================================================\n",
      "Total params: 3,125,106\n",
      "Trainable params: 3,125,106\n",
      "Non-trainable params: 0\n",
      "_________________________________________________________________\n",
      "0\n",
      "/scratch-shared/david/data/ki-database/exp147/r17c09\n",
      "(1, 25, 1080, 1080, 6)\n",
      "1\n",
      "/scratch-shared/david/data/ki-database/exp147/r17c17\n",
      "(1, 25, 1080, 1080, 6)\n",
      "2\n",
      "/scratch-shared/david/data/ki-database/exp147/r17c25\n",
      "(1, 25, 1080, 1080, 6)\n",
      "3\n",
      "/scratch-shared/david/data/ki-database/exp147/r18c09\n",
      "(1, 25, 1080, 1080, 6)\n",
      "4\n",
      "/scratch-shared/david/data/ki-database/exp147/r18c17\n",
      "(1, 25, 1080, 1080, 6)\n",
      "5\n",
      "/scratch-shared/david/data/ki-database/exp147/r18c25\n",
      "(1, 25, 1080, 1080, 6)\n"
     ]
    }
   ],
   "source": [
    "encoder = load_model('/scratch-shared/david/model_data/CRAE_arch/exp147_epochs_60_D20213703_T153737encoderSegment')\n",
    "encoder.summary()\n",
    "encoder.compile(optimizer='Adam', loss='mse')\n",
    "# predGen = LcpGenerator(inpath='../data/ki-database/exp147', batch_size = 1, input_aug=False)\n",
    "predArray = []\n",
    "loadpath = sorted(glob.glob('/scratch-shared/david/data/ki-database/exp147'+'/*'))\n",
    "loadpath = loadpath[3::4]\n",
    "for i, inpath in enumerate(loadpath):\n",
    "    print(i)\n",
    "    print(inpath)\n",
    "    npseq = np.load(inpath+'/sequence.npy').astype(float)\n",
    "    npseq = npseq/65535\n",
    "    npseq = np.reshape(npseq, (1, npseq.shape[0], npseq.shape[1], npseq.shape[2], npseq.shape[3]))\n",
    "    print(npseq.shape)\n",
    "    nppred = encoder.predict(npseq)\n",
    "    predArray += [nppred]"
   ]
  },
  {
   "cell_type": "code",
   "execution_count": 12,
   "metadata": {},
   "outputs": [
    {
     "name": "stdout",
     "output_type": "stream",
     "text": [
      "WARNING:tensorflow:Layer gru_1 will not use cuDNN kernels since it doesn't meet the criteria. It will use a generic GPU kernel as fallback when running on GPU.\n",
      "WARNING:tensorflow:Layer gru_3 will not use cuDNN kernels since it doesn't meet the criteria. It will use a generic GPU kernel as fallback when running on GPU.\n",
      "Model: \"model_2\"\n",
      "_________________________________________________________________\n",
      "Layer (type)                 Output Shape              Param #   \n",
      "=================================================================\n",
      "main_input (InputLayer)      [(None, 25, 1080, 1080, 6 0         \n",
      "_________________________________________________________________\n",
      "conv_timedist_layer (TimeDis (None, 25, 1050)          127506    \n",
      "_________________________________________________________________\n",
      "gru (GRU)                    (None, 25, 500)           2328000   \n",
      "_________________________________________________________________\n",
      "gru_1 (GRU)                  (None, 25, 250)           564000    \n",
      "_________________________________________________________________\n",
      "gru_2 (GRU)                  (None, 25, 100)           105600    \n",
      "=================================================================\n",
      "Total params: 3,125,106\n",
      "Trainable params: 3,125,106\n",
      "Non-trainable params: 0\n",
      "_________________________________________________________________\n",
      "['/scratch-shared/david/data/ki-database/exp147/r17c03', '/scratch-shared/david/data/ki-database/exp147/r17c05', '/scratch-shared/david/data/ki-database/exp147/r17c07', '/scratch-shared/david/data/ki-database/exp147/r17c09', '/scratch-shared/david/data/ki-database/exp147/r17c11', '/scratch-shared/david/data/ki-database/exp147/r17c13', '/scratch-shared/david/data/ki-database/exp147/r17c15', '/scratch-shared/david/data/ki-database/exp147/r17c17', '/scratch-shared/david/data/ki-database/exp147/r17c19', '/scratch-shared/david/data/ki-database/exp147/r17c21', '/scratch-shared/david/data/ki-database/exp147/r17c23', '/scratch-shared/david/data/ki-database/exp147/r17c25', '/scratch-shared/david/data/ki-database/exp147/r18c03', '/scratch-shared/david/data/ki-database/exp147/r18c05', '/scratch-shared/david/data/ki-database/exp147/r18c07', '/scratch-shared/david/data/ki-database/exp147/r18c09', '/scratch-shared/david/data/ki-database/exp147/r18c11', '/scratch-shared/david/data/ki-database/exp147/r18c13', '/scratch-shared/david/data/ki-database/exp147/r18c15', '/scratch-shared/david/data/ki-database/exp147/r18c17', '/scratch-shared/david/data/ki-database/exp147/r18c19', '/scratch-shared/david/data/ki-database/exp147/r18c21', '/scratch-shared/david/data/ki-database/exp147/r18c23', '/scratch-shared/david/data/ki-database/exp147/r18c25']\n"
     ]
    }
   ],
   "source": [
    "crae = load_model('/scratch-shared/david/model_data/CRAE_arch/exp147_epochs_60_D20213703_T153737full')\n",
    "crae.summary()\n",
    "predArray = []\n",
    "loadpath = sorted(glob.glob('/scratch-shared/david/data/ki-database/exp147'+'/*'))\n",
    "print(loadpath)"
   ]
  }
 ],
 "metadata": {
  "interpreter": {
   "hash": "31f2aee4e71d21fbe5cf8b01ff0e069b9275f58929596ceb00d14d90e3e16cd6"
  },
  "kernelspec": {
   "display_name": "Python 3.6.9 64-bit",
   "language": "python",
   "name": "python3"
  },
  "language_info": {
   "codemirror_mode": {
    "name": "ipython",
    "version": 3
   },
   "file_extension": ".py",
   "mimetype": "text/x-python",
   "name": "python",
   "nbconvert_exporter": "python",
   "pygments_lexer": "ipython3",
   "version": "3.6.9"
  },
  "orig_nbformat": 4
 },
 "nbformat": 4,
 "nbformat_minor": 2
}
