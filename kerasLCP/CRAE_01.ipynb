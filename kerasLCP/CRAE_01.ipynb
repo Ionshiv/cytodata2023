{
 "cells": [
  {
   "cell_type": "code",
   "execution_count": 10,
   "metadata": {},
   "outputs": [],
   "source": [
    "import numpy as np\n",
    "import os as os\n",
    "from datetime import datetime\n",
    "from tensorflow.python.ops.control_flow_ops import case\n",
    "from lcpae import LcpAe\n",
    "from lcpgenerator import LcpGenerator\n",
    "import matplotlib.pyplot as plt\n",
    "from tensorflow import keras\n",
    "from keras import layers\n",
    "from keras.models import Model\n",
    "from keras.models import load_model\n",
    "import tensorflow as tf\n",
    "import glob as glob\n",
    "from PIL import Image\n",
    "\n",
    "\n",
    "celldone = 'CELL run END'"
   ]
  },
  {
   "cell_type": "code",
   "execution_count": 20,
   "metadata": {},
   "outputs": [
    {
     "name": "stdout",
     "output_type": "stream",
     "text": [
      "(None, 540, 540, 8)\n",
      "(None, 135, 135, 2)\n",
      "(None, 15, 15, 2)\n"
     ]
    }
   ],
   "source": [
    "ingress = layers.Input((1080, 1080, 2))\n",
    "x = layers.Conv2D(filters=2, padding = 'same', kernel_size=(3,3), activation='relu')(ingress)\n",
    "x = layers.Conv2D(filters=8, padding = 'same', kernel_size=(3,3), strides=(2,2), activation='relu')(ingress)\n",
    "print(x.shape)\n",
    "x = layers.Conv2D(filters=2, padding = 'same', kernel_size=(12,12), strides=(4,4), activation='relu')(x)\n",
    "print(x.shape)\n",
    "x = layers.Conv2D(filters=2, padding = 'same', kernel_size=(12,12), strides=(9,9), activation='relu')(x)\n",
    "print(x.shape)"
   ]
  },
  {
   "cell_type": "code",
   "execution_count": 2,
   "metadata": {},
   "outputs": [
    {
     "name": "stdout",
     "output_type": "stream",
     "text": [
      "WARNING:tensorflow:No training configuration found in save file, so the model was *not* compiled. Compile it manually.\n",
      "Model: \"model_2\"\n",
      "_________________________________________________________________\n",
      "Layer (type)                 Output Shape              Param #   \n",
      "=================================================================\n",
      "main_input (InputLayer)      [(None, 25, 1080, 1080, 6 0         \n",
      "_________________________________________________________________\n",
      "conv_timedist_layer (TimeDis (None, 25, 1050)          127506    \n",
      "_________________________________________________________________\n",
      "gru (GRU)                    (None, 25, 500)           2328000   \n",
      "_________________________________________________________________\n",
      "gru_1 (GRU)                  (None, 25, 250)           564000    \n",
      "_________________________________________________________________\n",
      "gru_2 (GRU)                  (None, 25, 100)           105600    \n",
      "=================================================================\n",
      "Total params: 3,125,106\n",
      "Trainable params: 3,125,106\n",
      "Non-trainable params: 0\n",
      "_________________________________________________________________\n",
      "CELL run END\n"
     ]
    }
   ],
   "source": [
    "encoder = load_model('/scratch-shared/david/model_data/CRAE_arch/exp147_epochs_60_D20213703_T153737encoderSegment')\n",
    "loadpath = sorted(glob.glob('/scratch-shared/david/data/ki-database/exp147'+'/*'))\n",
    "# encoder = load_model('/scratch-shared/david/model_data/CRAE_arch/exp143_epochs_60_D20211504_T181518encoderSegment')\n",
    "# loadpath = sorted(glob.glob('/scratch-shared/david/data/ki-database/exp143'+'/*'))\n",
    "# encoder = load_model('/scratch-shared/david/model_data/CRAE_arch/exp156_epochs_60_D20213908_T233910encoderSegment')\n",
    "# loadpath = sorted(glob.glob('/scratch-shared/david/data/ki-database/exp156'+'/*'))\n",
    "encoder.summary()\n",
    "encoder.compile(optimizer='Adam', loss='mse')\n",
    "# predGen = LcpGenerator(inpath='../data/ki-database/exp147', batch_size = 1, input_aug=False)\n",
    "predArray = []\n",
    "# loadpath = loadpath[3::4]\n",
    "for i, inpath in enumerate(loadpath):\n",
    "    npseq = np.load(inpath+'/sequence.npy').astype(float)\n",
    "    npseq = npseq/65535\n",
    "    npseq = np.reshape(npseq, (1, npseq.shape[0], npseq.shape[1], npseq.shape[2], npseq.shape[3]))\n",
    "    nppred = encoder.predict(npseq)\n",
    "    predArray += [nppred]\n",
    "print(celldone)"
   ]
  },
  {
   "cell_type": "code",
   "execution_count": 3,
   "metadata": {},
   "outputs": [
    {
     "name": "stdout",
     "output_type": "stream",
     "text": [
      "CELL run END\n"
     ]
    }
   ],
   "source": [
    "t = range(25)\n",
    "scatterDim = []\n",
    "scatterList = []\n",
    "for j in range(100):\n",
    "    for i, featMap in enumerate(predArray):\n",
    "        featMap = np.reshape(featMap, (25, 100))\n",
    "        feat = featMap[:, j]\n",
    "        scatterDim += [feat]\n",
    "    scatterList += [scatterDim[:]]\n",
    "    scatterDim = []\n",
    "print(celldone)\n",
    "\n",
    "\n",
    "    \n",
    "\n",
    "\n",
    "\n",
    "        \n",
    "\n",
    "        \n",
    "\n",
    "    \n"
   ]
  },
  {
   "cell_type": "code",
   "execution_count": 5,
   "metadata": {},
   "outputs": [
    {
     "name": "stdout",
     "output_type": "stream",
     "text": [
      "CELL run END\n"
     ]
    }
   ],
   "source": [
    "fig = plt.figure()\n",
    "for k, featVec in enumerate(scatterList):\n",
    "    for feat in featVec:\n",
    "        plt.plot(t, feat, 'o')\n",
    "    # plt.show()\n",
    "    plot_path = '/scratch-shared/david/model_data/' + 'exp147'\n",
    "    plot_name =  '/feature_Number_' +str(k) + '.png'\n",
    "    if not os.path.exists(plot_path):\n",
    "        os.makedirs(plot_path)\n",
    "    plt.savefig(plot_path + plot_name, format='png')\n",
    "    plt.close()\n",
    "\n",
    "print(celldone)\n"
   ]
  },
  {
   "cell_type": "code",
   "execution_count": 4,
   "metadata": {},
   "outputs": [
    {
     "name": "stdout",
     "output_type": "stream",
     "text": [
      "Model: \"model_4\"\n",
      "_________________________________________________________________\n",
      "Layer (type)                 Output Shape              Param #   \n",
      "=================================================================\n",
      "main_input (InputLayer)      [(None, 25, 1080, 1080, 6 0         \n",
      "_________________________________________________________________\n",
      "model_2 (Functional)         (None, 25, 100)           3125106   \n",
      "_________________________________________________________________\n",
      "model_3 (Functional)         (None, 25, 1080, 1080, 6) 2087448   \n",
      "=================================================================\n",
      "Total params: 5,212,554\n",
      "Trainable params: 5,212,554\n",
      "Non-trainable params: 0\n",
      "_________________________________________________________________\n",
      "CELL run END\n"
     ]
    }
   ],
   "source": [
    "crae = load_model('/scratch-shared/david/model_data/CRAE_arch/exp147_epochs_60_D20213703_T153737full')\n",
    "crae.summary()\n",
    "predArray = []\n",
    "loadpath = sorted(glob.glob('/scratch-shared/david/data/ki-database/exp147'+'/*'))\n",
    "print(celldone)"
   ]
  },
  {
   "cell_type": "code",
   "execution_count": null,
   "metadata": {},
   "outputs": [
    {
     "name": "stdout",
     "output_type": "stream",
     "text": [
      "(25, 1080, 1080, 6) (25, 1080, 1080, 6)\n",
      "0.15882131457328796 0.27739375906004426\n",
      "CELL run END\n"
     ]
    }
   ],
   "source": [
    "\n",
    "im1 = np.load(loadpath[5]+'/sequence.npy').astype(float)\n",
    "im1 = im1/65535\n",
    "im1 = np.reshape(im1, (1, im1.shape[0], im1.shape[1], im1.shape[2], im1.shape[3]))\n",
    "# print(im1.shape)\n",
    "im2 = crae.predict(im1)\n",
    "im2 = im2.astype(float)\n",
    "# im2 = im2*65535\n",
    "# im2 = im2.astype(int)\n",
    "# print('max', np.amax(im2))\n",
    "# im2 = im2/np.amax(im2)\n",
    "# print('min' ,np.amin(im2))\n",
    "# print(im2.shape)\n",
    "# print(im1.shape)\n",
    "im1 = np.reshape(im1, (25, 1080, 1080, 6))\n",
    "im2 = np.reshape(im2, (25, 1080, 1080, 6))\n",
    "print(im1.shape, im2.shape)\n",
    "\n",
    "frame1 = im1[10,:,:,4]\n",
    "frame2 = im2[10,:,:,4]\n",
    "# print(np.amax(frame2), np.amax(frame1))\n",
    "# print('Max after norm' ,np.amax(frame2))\n",
    "print(celldone)"
   ]
  },
  {
   "cell_type": "code",
   "execution_count": null,
   "metadata": {},
   "outputs": [],
   "source": [
    "\n",
    "\n"
   ]
  },
  {
   "cell_type": "code",
   "execution_count": null,
   "metadata": {},
   "outputs": [
    {
     "ename": "TypeError",
     "evalue": "Cannot handle this data type: (1, 1), <i8",
     "output_type": "error",
     "traceback": [
      "\u001b[0;31m---------------------------------------------------------------------------\u001b[0m",
      "\u001b[0;31mKeyError\u001b[0m                                  Traceback (most recent call last)",
      "\u001b[0;32m/usr/local/lib/python3.6/dist-packages/PIL/Image.py\u001b[0m in \u001b[0;36mfromarray\u001b[0;34m(obj, mode)\u001b[0m\n\u001b[1;32m   2827\u001b[0m         \u001b[0;32mtry\u001b[0m\u001b[0;34m:\u001b[0m\u001b[0;34m\u001b[0m\u001b[0;34m\u001b[0m\u001b[0m\n\u001b[0;32m-> 2828\u001b[0;31m             \u001b[0mmode\u001b[0m\u001b[0;34m,\u001b[0m \u001b[0mrawmode\u001b[0m \u001b[0;34m=\u001b[0m \u001b[0m_fromarray_typemap\u001b[0m\u001b[0;34m[\u001b[0m\u001b[0mtypekey\u001b[0m\u001b[0;34m]\u001b[0m\u001b[0;34m\u001b[0m\u001b[0;34m\u001b[0m\u001b[0m\n\u001b[0m\u001b[1;32m   2829\u001b[0m         \u001b[0;32mexcept\u001b[0m \u001b[0mKeyError\u001b[0m \u001b[0;32mas\u001b[0m \u001b[0me\u001b[0m\u001b[0;34m:\u001b[0m\u001b[0;34m\u001b[0m\u001b[0;34m\u001b[0m\u001b[0m\n",
      "\u001b[0;31mKeyError\u001b[0m: ((1, 1), '<i8')",
      "\nThe above exception was the direct cause of the following exception:\n",
      "\u001b[0;31mTypeError\u001b[0m                                 Traceback (most recent call last)",
      "\u001b[0;32m<ipython-input-10-2a69491268c5>\u001b[0m in \u001b[0;36m<module>\u001b[0;34m\u001b[0m\n\u001b[0;32m----> 1\u001b[0;31m \u001b[0mimage2\u001b[0m \u001b[0;34m=\u001b[0m \u001b[0mImage\u001b[0m\u001b[0;34m.\u001b[0m\u001b[0mfromarray\u001b[0m\u001b[0;34m(\u001b[0m\u001b[0mframe2\u001b[0m\u001b[0;34m)\u001b[0m\u001b[0;34m\u001b[0m\u001b[0;34m\u001b[0m\u001b[0m\n\u001b[0m\u001b[1;32m      2\u001b[0m \u001b[0mimage2\u001b[0m\u001b[0;34m.\u001b[0m\u001b[0msave\u001b[0m\u001b[0;34m(\u001b[0m\u001b[0;34m'output.png'\u001b[0m\u001b[0;34m,\u001b[0m \u001b[0mformat\u001b[0m\u001b[0;34m=\u001b[0m\u001b[0;34m'png'\u001b[0m\u001b[0;34m)\u001b[0m\u001b[0;34m\u001b[0m\u001b[0;34m\u001b[0m\u001b[0m\n",
      "\u001b[0;32m/usr/local/lib/python3.6/dist-packages/PIL/Image.py\u001b[0m in \u001b[0;36mfromarray\u001b[0;34m(obj, mode)\u001b[0m\n\u001b[1;32m   2828\u001b[0m             \u001b[0mmode\u001b[0m\u001b[0;34m,\u001b[0m \u001b[0mrawmode\u001b[0m \u001b[0;34m=\u001b[0m \u001b[0m_fromarray_typemap\u001b[0m\u001b[0;34m[\u001b[0m\u001b[0mtypekey\u001b[0m\u001b[0;34m]\u001b[0m\u001b[0;34m\u001b[0m\u001b[0;34m\u001b[0m\u001b[0m\n\u001b[1;32m   2829\u001b[0m         \u001b[0;32mexcept\u001b[0m \u001b[0mKeyError\u001b[0m \u001b[0;32mas\u001b[0m \u001b[0me\u001b[0m\u001b[0;34m:\u001b[0m\u001b[0;34m\u001b[0m\u001b[0;34m\u001b[0m\u001b[0m\n\u001b[0;32m-> 2830\u001b[0;31m             \u001b[0;32mraise\u001b[0m \u001b[0mTypeError\u001b[0m\u001b[0;34m(\u001b[0m\u001b[0;34m\"Cannot handle this data type: %s, %s\"\u001b[0m \u001b[0;34m%\u001b[0m \u001b[0mtypekey\u001b[0m\u001b[0;34m)\u001b[0m \u001b[0;32mfrom\u001b[0m \u001b[0me\u001b[0m\u001b[0;34m\u001b[0m\u001b[0;34m\u001b[0m\u001b[0m\n\u001b[0m\u001b[1;32m   2831\u001b[0m     \u001b[0;32melse\u001b[0m\u001b[0;34m:\u001b[0m\u001b[0;34m\u001b[0m\u001b[0;34m\u001b[0m\u001b[0m\n\u001b[1;32m   2832\u001b[0m         \u001b[0mrawmode\u001b[0m \u001b[0;34m=\u001b[0m \u001b[0mmode\u001b[0m\u001b[0;34m\u001b[0m\u001b[0;34m\u001b[0m\u001b[0m\n",
      "\u001b[0;31mTypeError\u001b[0m: Cannot handle this data type: (1, 1), <i8"
     ]
    }
   ],
   "source": [
    "type(frame2)\n",
    "# image2 = Image.fromarray(frame2)\n",
    "# image2.save('output.png', format='png')"
   ]
  },
  {
   "cell_type": "code",
   "execution_count": null,
   "metadata": {},
   "outputs": [
    {
     "data": {
      "image/png": "[encoded data removed]",
      "text/plain": [
       "<Figure size 432x288 with 2 Axes>"
      ]
     },
     "metadata": {
      "needs_background": "light"
     },
     "output_type": "display_data"
    },
    {
     "name": "stdout",
     "output_type": "stream",
     "text": [
      "<class 'numpy.float64'>\n",
      "0.1588212549686432 0.0\n",
      "CELL run END\n"
     ]
    }
   ],
   "source": [
    "ax = plt.subplot(1, 2, 1)\n",
    "plt.imshow(frame1)\n",
    "ax.get_xaxis().set_visible(False)\n",
    "ax.get_yaxis().set_visible(False)\n",
    "ax = plt.subplot(1, 2, 2)\n",
    "plt.imshow(frame2)\n",
    "ax.get_xaxis().set_visible(False)\n",
    "ax.get_yaxis().set_visible(False)\n",
    "plt.show()\n",
    "plt.close()\n",
    "print(type(frame2[1][1]))\n",
    "print(np.amax(frame2), np.amin(frame2))\n",
    "print(celldone)"
   ]
  },
  {
   "cell_type": "code",
   "execution_count": null,
   "metadata": {},
   "outputs": [
    {
     "name": "stdout",
     "output_type": "stream",
     "text": [
      "25 25 0\n"
     ]
    }
   ],
   "source": [
    "npseq.shape[1]\n",
    "t = range(npseq.shape[1])\n",
    "print(len(t),npseq.shape[1], t[0]) "
   ]
  }
 ],
 "metadata": {
  "interpreter": {
   "hash": "31f2aee4e71d21fbe5cf8b01ff0e069b9275f58929596ceb00d14d90e3e16cd6"
  },
  "kernelspec": {
   "display_name": "Python 3",
   "language": "python",
   "name": "python3"
  },
  "language_info": {
   "codemirror_mode": {
    "name": "ipython",
    "version": 3
   },
   "file_extension": ".py",
   "mimetype": "text/x-python",
   "name": "python",
   "nbconvert_exporter": "python",
   "pygments_lexer": "ipython3",
   "version": "3.8.10"
  }
 },
 "nbformat": 4,
 "nbformat_minor": 4
}
